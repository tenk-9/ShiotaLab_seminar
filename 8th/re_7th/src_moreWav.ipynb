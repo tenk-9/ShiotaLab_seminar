{
  "cells": [
    {
      "cell_type": "markdown",
      "metadata": {
        "id": "lZ1ClCtXBiIT"
      },
      "source": [
        " * Hugging Faceの公式ページ -> https://huggingface.co/\n",
        "\n",
        "* 今回用いるECAPA-TDNNのページ ->https://huggingface.co/speechbrain/spkrec-ecapa-voxceleb"
      ]
    },
    {
      "cell_type": "markdown",
      "source": [
        "## 環境構築\n"
      ],
      "metadata": {
        "id": "ITtOOp-Oh8fr"
      }
    },
    {
      "cell_type": "code",
      "execution_count": 1,
      "metadata": {
        "id": "bxCCSkabU72b",
        "colab": {
          "base_uri": "https://localhost:8080/"
        },
        "outputId": "3e98495b-66eb-4a2d-ce2b-bd3acb139924"
      },
      "outputs": [
        {
          "output_type": "stream",
          "name": "stdout",
          "text": [
            "Mounted at /content/drive\n"
          ]
        }
      ],
      "source": [
        "from google.colab import drive\n",
        "# drive.mount('/content/drive')\n",
        "drive.mount(\"/content/drive\", force_remount=True)"
      ]
    },
    {
      "cell_type": "code",
      "source": [
        "%cd /content"
      ],
      "metadata": {
        "id": "gBORDHb1nwI_",
        "colab": {
          "base_uri": "https://localhost:8080/"
        },
        "outputId": "02a90398-ce8c-41cf-f4d8-115a3d3a4033"
      },
      "execution_count": 2,
      "outputs": [
        {
          "output_type": "stream",
          "name": "stdout",
          "text": [
            "/content\n"
          ]
        }
      ]
    },
    {
      "cell_type": "code",
      "execution_count": 3,
      "metadata": {
        "id": "8-3O1cje_z8N",
        "colab": {
          "base_uri": "https://localhost:8080/"
        },
        "outputId": "dfe945c7-84b9-4113-c935-9f7959bce927"
      },
      "outputs": [
        {
          "output_type": "stream",
          "name": "stdout",
          "text": [
            "Python 3.10.12\n"
          ]
        }
      ],
      "source": [
        "#pythonのバージョン確認\n",
        "!python -V"
      ]
    },
    {
      "cell_type": "code",
      "execution_count": 4,
      "metadata": {
        "id": "99OIozpqARNV",
        "colab": {
          "base_uri": "https://localhost:8080/"
        },
        "outputId": "6d578355-e699-4512-80ab-45a13816c73a"
      },
      "outputs": [
        {
          "output_type": "stream",
          "name": "stdout",
          "text": [
            "nvcc: NVIDIA (R) Cuda compiler driver\n",
            "Copyright (c) 2005-2023 NVIDIA Corporation\n",
            "Built on Tue_Aug_15_22:02:13_PDT_2023\n",
            "Cuda compilation tools, release 12.2, V12.2.140\n",
            "Build cuda_12.2.r12.2/compiler.33191640_0\n"
          ]
        }
      ],
      "source": [
        "#cudaのバージョン確認\n",
        "!nvcc -V"
      ]
    },
    {
      "cell_type": "code",
      "execution_count": 5,
      "metadata": {
        "id": "7sIvQ3fwzfqf",
        "colab": {
          "base_uri": "https://localhost:8080/",
          "height": 1000
        },
        "outputId": "61d3f804-59f2-42cf-9b7c-a0f6182fadd0"
      },
      "outputs": [
        {
          "output_type": "stream",
          "name": "stdout",
          "text": [
            "Collecting speechbrain\n",
            "  Downloading speechbrain-0.5.16-py3-none-any.whl (630 kB)\n",
            "\u001b[2K     \u001b[90m━━━━━━━━━━━━━━━━━━━━━━━━━━━━━━━━━━━━━━━━\u001b[0m \u001b[32m630.6/630.6 kB\u001b[0m \u001b[31m3.0 MB/s\u001b[0m eta \u001b[36m0:00:00\u001b[0m\n",
            "\u001b[?25hCollecting hyperpyyaml (from speechbrain)\n",
            "  Downloading HyperPyYAML-1.2.2-py3-none-any.whl (16 kB)\n",
            "Requirement already satisfied: joblib in /usr/local/lib/python3.10/dist-packages (from speechbrain) (1.3.2)\n",
            "Requirement already satisfied: numpy in /usr/local/lib/python3.10/dist-packages (from speechbrain) (1.23.5)\n",
            "Requirement already satisfied: packaging in /usr/local/lib/python3.10/dist-packages (from speechbrain) (23.2)\n",
            "Requirement already satisfied: scipy in /usr/local/lib/python3.10/dist-packages (from speechbrain) (1.11.4)\n",
            "Collecting sentencepiece (from speechbrain)\n",
            "  Downloading sentencepiece-0.1.99-cp310-cp310-manylinux_2_17_x86_64.manylinux2014_x86_64.whl (1.3 MB)\n",
            "\u001b[2K     \u001b[90m━━━━━━━━━━━━━━━━━━━━━━━━━━━━━━━━━━━━━━━━\u001b[0m \u001b[32m1.3/1.3 MB\u001b[0m \u001b[31m17.7 MB/s\u001b[0m eta \u001b[36m0:00:00\u001b[0m\n",
            "\u001b[?25hRequirement already satisfied: torch>=1.9 in /usr/local/lib/python3.10/dist-packages (from speechbrain) (2.1.0+cu121)\n",
            "Requirement already satisfied: torchaudio in /usr/local/lib/python3.10/dist-packages (from speechbrain) (2.1.0+cu121)\n",
            "Requirement already satisfied: tqdm in /usr/local/lib/python3.10/dist-packages (from speechbrain) (4.66.1)\n",
            "Requirement already satisfied: huggingface-hub in /usr/local/lib/python3.10/dist-packages (from speechbrain) (0.19.4)\n",
            "Requirement already satisfied: filelock in /usr/local/lib/python3.10/dist-packages (from torch>=1.9->speechbrain) (3.13.1)\n",
            "Requirement already satisfied: typing-extensions in /usr/local/lib/python3.10/dist-packages (from torch>=1.9->speechbrain) (4.5.0)\n",
            "Requirement already satisfied: sympy in /usr/local/lib/python3.10/dist-packages (from torch>=1.9->speechbrain) (1.12)\n",
            "Requirement already satisfied: networkx in /usr/local/lib/python3.10/dist-packages (from torch>=1.9->speechbrain) (3.2.1)\n",
            "Requirement already satisfied: jinja2 in /usr/local/lib/python3.10/dist-packages (from torch>=1.9->speechbrain) (3.1.2)\n",
            "Requirement already satisfied: fsspec in /usr/local/lib/python3.10/dist-packages (from torch>=1.9->speechbrain) (2023.6.0)\n",
            "Requirement already satisfied: triton==2.1.0 in /usr/local/lib/python3.10/dist-packages (from torch>=1.9->speechbrain) (2.1.0)\n",
            "Requirement already satisfied: requests in /usr/local/lib/python3.10/dist-packages (from huggingface-hub->speechbrain) (2.31.0)\n",
            "Requirement already satisfied: pyyaml>=5.1 in /usr/local/lib/python3.10/dist-packages (from huggingface-hub->speechbrain) (6.0.1)\n",
            "Collecting ruamel.yaml>=0.17.28 (from hyperpyyaml->speechbrain)\n",
            "  Downloading ruamel.yaml-0.18.5-py3-none-any.whl (116 kB)\n",
            "\u001b[2K     \u001b[90m━━━━━━━━━━━━━━━━━━━━━━━━━━━━━━━━━━━━━━━━\u001b[0m \u001b[32m116.4/116.4 kB\u001b[0m \u001b[31m4.1 MB/s\u001b[0m eta \u001b[36m0:00:00\u001b[0m\n",
            "\u001b[?25hCollecting ruamel.yaml.clib>=0.2.7 (from ruamel.yaml>=0.17.28->hyperpyyaml->speechbrain)\n",
            "  Downloading ruamel.yaml.clib-0.2.8-cp310-cp310-manylinux_2_17_x86_64.manylinux2014_x86_64.manylinux_2_24_x86_64.whl (526 kB)\n",
            "\u001b[2K     \u001b[90m━━━━━━━━━━━━━━━━━━━━━━━━━━━━━━━━━━━━━━━━\u001b[0m \u001b[32m526.7/526.7 kB\u001b[0m \u001b[31m23.4 MB/s\u001b[0m eta \u001b[36m0:00:00\u001b[0m\n",
            "\u001b[?25hRequirement already satisfied: MarkupSafe>=2.0 in /usr/local/lib/python3.10/dist-packages (from jinja2->torch>=1.9->speechbrain) (2.1.3)\n",
            "Requirement already satisfied: charset-normalizer<4,>=2 in /usr/local/lib/python3.10/dist-packages (from requests->huggingface-hub->speechbrain) (3.3.2)\n",
            "Requirement already satisfied: idna<4,>=2.5 in /usr/local/lib/python3.10/dist-packages (from requests->huggingface-hub->speechbrain) (3.6)\n",
            "Requirement already satisfied: urllib3<3,>=1.21.1 in /usr/local/lib/python3.10/dist-packages (from requests->huggingface-hub->speechbrain) (2.0.7)\n",
            "Requirement already satisfied: certifi>=2017.4.17 in /usr/local/lib/python3.10/dist-packages (from requests->huggingface-hub->speechbrain) (2023.11.17)\n",
            "Requirement already satisfied: mpmath>=0.19 in /usr/local/lib/python3.10/dist-packages (from sympy->torch>=1.9->speechbrain) (1.3.0)\n",
            "Installing collected packages: sentencepiece, ruamel.yaml.clib, ruamel.yaml, hyperpyyaml, speechbrain\n",
            "Successfully installed hyperpyyaml-1.2.2 ruamel.yaml-0.18.5 ruamel.yaml.clib-0.2.8 sentencepiece-0.1.99 speechbrain-0.5.16\n",
            "Looking in indexes: https://download.pytorch.org/whl/cu118\n",
            "Requirement already satisfied: torch in /usr/local/lib/python3.10/dist-packages (2.1.0+cu121)\n",
            "Requirement already satisfied: torchvision in /usr/local/lib/python3.10/dist-packages (0.16.0+cu121)\n",
            "Requirement already satisfied: torchaudio in /usr/local/lib/python3.10/dist-packages (2.1.0+cu121)\n",
            "Requirement already satisfied: filelock in /usr/local/lib/python3.10/dist-packages (from torch) (3.13.1)\n",
            "Requirement already satisfied: typing-extensions in /usr/local/lib/python3.10/dist-packages (from torch) (4.5.0)\n",
            "Requirement already satisfied: sympy in /usr/local/lib/python3.10/dist-packages (from torch) (1.12)\n",
            "Requirement already satisfied: networkx in /usr/local/lib/python3.10/dist-packages (from torch) (3.2.1)\n",
            "Requirement already satisfied: jinja2 in /usr/local/lib/python3.10/dist-packages (from torch) (3.1.2)\n",
            "Requirement already satisfied: fsspec in /usr/local/lib/python3.10/dist-packages (from torch) (2023.6.0)\n",
            "Requirement already satisfied: triton==2.1.0 in /usr/local/lib/python3.10/dist-packages (from torch) (2.1.0)\n",
            "Requirement already satisfied: numpy in /usr/local/lib/python3.10/dist-packages (from torchvision) (1.23.5)\n",
            "Requirement already satisfied: requests in /usr/local/lib/python3.10/dist-packages (from torchvision) (2.31.0)\n",
            "Requirement already satisfied: pillow!=8.3.*,>=5.3.0 in /usr/local/lib/python3.10/dist-packages (from torchvision) (9.4.0)\n",
            "Requirement already satisfied: MarkupSafe>=2.0 in /usr/local/lib/python3.10/dist-packages (from jinja2->torch) (2.1.3)\n",
            "Requirement already satisfied: charset-normalizer<4,>=2 in /usr/local/lib/python3.10/dist-packages (from requests->torchvision) (3.3.2)\n",
            "Requirement already satisfied: idna<4,>=2.5 in /usr/local/lib/python3.10/dist-packages (from requests->torchvision) (3.6)\n",
            "Requirement already satisfied: urllib3<3,>=1.21.1 in /usr/local/lib/python3.10/dist-packages (from requests->torchvision) (2.0.7)\n",
            "Requirement already satisfied: certifi>=2017.4.17 in /usr/local/lib/python3.10/dist-packages (from requests->torchvision) (2023.11.17)\n",
            "Requirement already satisfied: mpmath>=0.19 in /usr/local/lib/python3.10/dist-packages (from sympy->torch) (1.3.0)\n",
            "Requirement already satisfied: matplotlib in /usr/local/lib/python3.10/dist-packages (3.7.1)\n",
            "Collecting japanize-matplotlib\n",
            "  Downloading japanize-matplotlib-1.1.3.tar.gz (4.1 MB)\n",
            "\u001b[2K     \u001b[90m━━━━━━━━━━━━━━━━━━━━━━━━━━━━━━━━━━━━━━━━\u001b[0m \u001b[32m4.1/4.1 MB\u001b[0m \u001b[31m13.6 MB/s\u001b[0m eta \u001b[36m0:00:00\u001b[0m\n",
            "\u001b[?25h  Preparing metadata (setup.py) ... \u001b[?25l\u001b[?25hdone\n",
            "Collecting typing\n",
            "  Downloading typing-3.7.4.3.tar.gz (78 kB)\n",
            "\u001b[2K     \u001b[90m━━━━━━━━━━━━━━━━━━━━━━━━━━━━━━━━━━━━━━━━\u001b[0m \u001b[32m78.6/78.6 kB\u001b[0m \u001b[31m11.2 MB/s\u001b[0m eta \u001b[36m0:00:00\u001b[0m\n",
            "\u001b[?25h  Preparing metadata (setup.py) ... \u001b[?25l\u001b[?25hdone\n",
            "Requirement already satisfied: scipy in /usr/local/lib/python3.10/dist-packages (1.11.4)\n",
            "Requirement already satisfied: scikit-learn in /usr/local/lib/python3.10/dist-packages (1.2.2)\n",
            "Requirement already satisfied: contourpy>=1.0.1 in /usr/local/lib/python3.10/dist-packages (from matplotlib) (1.2.0)\n",
            "Requirement already satisfied: cycler>=0.10 in /usr/local/lib/python3.10/dist-packages (from matplotlib) (0.12.1)\n",
            "Requirement already satisfied: fonttools>=4.22.0 in /usr/local/lib/python3.10/dist-packages (from matplotlib) (4.46.0)\n",
            "Requirement already satisfied: kiwisolver>=1.0.1 in /usr/local/lib/python3.10/dist-packages (from matplotlib) (1.4.5)\n",
            "Requirement already satisfied: numpy>=1.20 in /usr/local/lib/python3.10/dist-packages (from matplotlib) (1.23.5)\n",
            "Requirement already satisfied: packaging>=20.0 in /usr/local/lib/python3.10/dist-packages (from matplotlib) (23.2)\n",
            "Requirement already satisfied: pillow>=6.2.0 in /usr/local/lib/python3.10/dist-packages (from matplotlib) (9.4.0)\n",
            "Requirement already satisfied: pyparsing>=2.3.1 in /usr/local/lib/python3.10/dist-packages (from matplotlib) (3.1.1)\n",
            "Requirement already satisfied: python-dateutil>=2.7 in /usr/local/lib/python3.10/dist-packages (from matplotlib) (2.8.2)\n",
            "Requirement already satisfied: joblib>=1.1.1 in /usr/local/lib/python3.10/dist-packages (from scikit-learn) (1.3.2)\n",
            "Requirement already satisfied: threadpoolctl>=2.0.0 in /usr/local/lib/python3.10/dist-packages (from scikit-learn) (3.2.0)\n",
            "Requirement already satisfied: six>=1.5 in /usr/local/lib/python3.10/dist-packages (from python-dateutil>=2.7->matplotlib) (1.16.0)\n",
            "Building wheels for collected packages: japanize-matplotlib, typing\n",
            "  Building wheel for japanize-matplotlib (setup.py) ... \u001b[?25l\u001b[?25hdone\n",
            "  Created wheel for japanize-matplotlib: filename=japanize_matplotlib-1.1.3-py3-none-any.whl size=4120257 sha256=53ff945817f772d1feec37ef0f9d55583974a7696c7dd35e9525a79f1125ca07\n",
            "  Stored in directory: /root/.cache/pip/wheels/61/7a/6b/df1f79be9c59862525070e157e62b08eab8ece27c1b68fbb94\n",
            "  Building wheel for typing (setup.py) ... \u001b[?25l\u001b[?25hdone\n",
            "  Created wheel for typing: filename=typing-3.7.4.3-py3-none-any.whl size=26304 sha256=e34a8b32bac593b4b29285200f9190168332616c9f5e0c8b25b4c5ca166883f4\n",
            "  Stored in directory: /root/.cache/pip/wheels/7c/d0/9e/1f26ebb66d9e1732e4098bc5a6c2d91f6c9a529838f0284890\n",
            "Successfully built japanize-matplotlib typing\n",
            "Installing collected packages: typing, japanize-matplotlib\n",
            "Successfully installed japanize-matplotlib-1.1.3 typing-3.7.4.3\n"
          ]
        },
        {
          "output_type": "display_data",
          "data": {
            "application/vnd.colab-display-data+json": {
              "pip_warning": {
                "packages": [
                  "typing"
                ]
              }
            }
          },
          "metadata": {}
        }
      ],
      "source": [
        "#必要なライブラリのインストール\n",
        "!pip install speechbrain\n",
        "!pip install torch torchvision torchaudio --index-url https://download.pytorch.org/whl/cu118\n",
        "!pip install matplotlib japanize-matplotlib typing scipy scikit-learn"
      ]
    },
    {
      "cell_type": "code",
      "execution_count": 6,
      "metadata": {
        "id": "vtGT0-LBA3rD",
        "colab": {
          "base_uri": "https://localhost:8080/",
          "height": 177,
          "referenced_widgets": [
            "f8c3889377174d8783d7024c88170bc9",
            "2daf4ca496bb4eed8238c88ce2c17252",
            "5bac3409a8714be1aeb1e11e51361d4b",
            "3423e73ec7ad498da602defc52e419a3",
            "ae7b2e2fb9924d03a93059cadca871f4",
            "1ccb4e264add44e5acab371eb1a37451",
            "1928ca1cdcd04c4d9ee5086e2cb1ef09",
            "2caf765b144644399840c0a38aac6db4",
            "4d8b8e5e65ee4a88a65bff9911fae015",
            "b2947cdc42494702bccf65450234df99",
            "e4ca1f13280741e4be2c8965ac1a5c22",
            "519c036bb44f4af1beab8c993f746cb7",
            "01e6e626669543b7819a08f4aec8343a",
            "78fca5d686774e81b5301a99bbcd0918",
            "20cd6ba639f84f0badd3413456f94598",
            "d81f76ebc3b74d89a497240fe1d6f8e2",
            "b429f424d99645c386c2a6eada4e3846",
            "879301ad39654f889b3894d5a314c21c",
            "c3cdef28cfd24aadbed58fadd6219ced",
            "6dd67543ec1343f78708387115737432",
            "9548b94ce7d04b6ea6e0b0ce1f5f3688",
            "a2f48886c5354430b1bb33546456d738",
            "22bfa148eb254f249a79088f35e01207",
            "7beda3e8a7014df1a4979771975402be",
            "86d79549cf5b46c9bb36f2509f0e8e28",
            "445ec70874914ab59d1177132ed9fd4d",
            "bba4a8c9eab24951ba78dccb1e1febf1",
            "2fbdf2f8ae64494094b66f00cc9846c6",
            "110b81c7ece545e1af149c0a102e514d",
            "850dd1293ef3422181a7224561d0b13d",
            "8e28aa6513e747629a376bcf41e64520",
            "d5988f8b0b8842489054c35a9413a627",
            "eea88c2edbca40818d1dd96a99d294cd",
            "0877cfce04d642bc869bf49d1d44db3e",
            "77cd6d4d2e844405b7678f491d505469",
            "eebf7a1a11a149788c96e2122b73e596",
            "311a95b4e8034f378c6f4ff4dbc83ff2",
            "72273774f27f41348073fe2fd608ac68",
            "e5a76966f2bf4ad7b0e01e6f1d11e216",
            "1ba2b366d35d43a5993e808eb4023a8e",
            "24e9137cdc474435baeb124982db2125",
            "af1aa3e603b247a1a6f57f64886449eb",
            "220d6ec8bee04d60805d6f7e411d821f",
            "6f6afd00794f4f94849a96d19cdc476b",
            "5f625362ef9b4ec7806ffc5921a5f2c6",
            "c36c637133b240d89556bd19e02e651a",
            "c7bb2c95385042858ea3b6f947ee9435",
            "ebf042f99b8d446f93aa70aecf1bf64f",
            "5630133acd0948ae8dc4a9892e86d671",
            "6f2d944d76354c93b5db32e59374d161",
            "6729db8c37f243c3b64748b59aa730de",
            "75344e19cc464ab583fd341a7398d92e",
            "93b9236e2cfd4a468caf62bfb0bc41e1",
            "8735e85262a349c386e6a5f7e814d0ef",
            "71cd16a6a6104894bea7bddf89e10c59"
          ]
        },
        "outputId": "77b2cb2c-a4d9-4a0f-81d8-332715d5ae97"
      },
      "outputs": [
        {
          "output_type": "display_data",
          "data": {
            "text/plain": [
              "hyperparams.yaml:   0%|          | 0.00/1.92k [00:00<?, ?B/s]"
            ],
            "application/vnd.jupyter.widget-view+json": {
              "version_major": 2,
              "version_minor": 0,
              "model_id": "f8c3889377174d8783d7024c88170bc9"
            }
          },
          "metadata": {}
        },
        {
          "output_type": "display_data",
          "data": {
            "text/plain": [
              "embedding_model.ckpt:   0%|          | 0.00/83.3M [00:00<?, ?B/s]"
            ],
            "application/vnd.jupyter.widget-view+json": {
              "version_major": 2,
              "version_minor": 0,
              "model_id": "519c036bb44f4af1beab8c993f746cb7"
            }
          },
          "metadata": {}
        },
        {
          "output_type": "display_data",
          "data": {
            "text/plain": [
              "mean_var_norm_emb.ckpt:   0%|          | 0.00/1.92k [00:00<?, ?B/s]"
            ],
            "application/vnd.jupyter.widget-view+json": {
              "version_major": 2,
              "version_minor": 0,
              "model_id": "22bfa148eb254f249a79088f35e01207"
            }
          },
          "metadata": {}
        },
        {
          "output_type": "display_data",
          "data": {
            "text/plain": [
              "classifier.ckpt:   0%|          | 0.00/5.53M [00:00<?, ?B/s]"
            ],
            "application/vnd.jupyter.widget-view+json": {
              "version_major": 2,
              "version_minor": 0,
              "model_id": "0877cfce04d642bc869bf49d1d44db3e"
            }
          },
          "metadata": {}
        },
        {
          "output_type": "display_data",
          "data": {
            "text/plain": [
              "label_encoder.txt:   0%|          | 0.00/129k [00:00<?, ?B/s]"
            ],
            "application/vnd.jupyter.widget-view+json": {
              "version_major": 2,
              "version_minor": 0,
              "model_id": "5f625362ef9b4ec7806ffc5921a5f2c6"
            }
          },
          "metadata": {}
        }
      ],
      "source": [
        "#事前学習モデルのロード\n",
        "from speechbrain.pretrained import SpeakerRecognition\n",
        "verification = SpeakerRecognition.from_hparams(\n",
        "    source=\"speechbrain/spkrec-ecapa-voxceleb\",\n",
        "    savedir=\"pretrained_models/spkrec-ecapa-voxceleb\",\n",
        "    run_opts={\"device\":\"cuda\"},\n",
        "    )"
      ]
    },
    {
      "cell_type": "code",
      "execution_count": 7,
      "metadata": {
        "id": "6blYo8pznsPl"
      },
      "outputs": [],
      "source": [
        "from typing import List\n",
        "from scipy.interpolate import interp1d\n",
        "from scipy.optimize import brentq\n",
        "from sklearn.metrics import roc_curve ,auc\n",
        "import matplotlib.pyplot as plt\n",
        "\n",
        "from tqdm import tqdm\n",
        "import re"
      ]
    },
    {
      "cell_type": "markdown",
      "source": [
        "## 照合"
      ],
      "metadata": {
        "id": "MzlyOxrLqMIv"
      }
    },
    {
      "cell_type": "code",
      "execution_count": 8,
      "metadata": {
        "id": "VA_SDaUc34a2"
      },
      "outputs": [],
      "source": [
        "#EERを求める関数\n",
        "#FRR=1-TPRであることに留意\n",
        "def compute_eer(labels: List[int], scores: List[float]):\n",
        "    fpr, tpr, thresholds = roc_curve(labels, scores, pos_label=1)\n",
        "    eer = brentq(lambda x: 1.0 - x - interp1d(fpr, tpr)(x), 0.0, 1.0)\n",
        "    eer_threshold = interp1d(fpr, thresholds)(eer)\n",
        "    return fpr, tpr, thresholds, eer, eer_threshold"
      ]
    },
    {
      "cell_type": "markdown",
      "metadata": {
        "id": "O2GjPgusiCzX"
      },
      "source": [
        "複数のwav_pair_listに対してEERとROCカーブを出力する処理を行いたいため，処理を関数化．\n",
        "\n",
        "ここまでやるならクラス化したほうがいいと言われた，確かに．\n"
      ]
    },
    {
      "cell_type": "code",
      "source": [
        "# ディレクトリ移動\n",
        "%cd /content/\n",
        "\n",
        "# /content/drive/ 内からdrive/内にファイルを作成しようとしたらエラーが出るので，目的のディレクトリを保持しておく．\n",
        "TAR_DIR = \"/content/drive/MyDrive/CS_seminar/8th/re_7th\"\n",
        "LIST_DIR = \"/content/drive/MyDrive/CS_seminar/data/list\""
      ],
      "metadata": {
        "colab": {
          "base_uri": "https://localhost:8080/"
        },
        "id": "fbkXHYqRrmdF",
        "outputId": "9b794972-d41a-4c08-f266-9914b9446138"
      },
      "execution_count": 9,
      "outputs": [
        {
          "output_type": "stream",
          "name": "stdout",
          "text": [
            "/content\n"
          ]
        }
      ]
    },
    {
      "cell_type": "code",
      "execution_count": 10,
      "metadata": {
        "id": "gLNTFA0aiRQI"
      },
      "outputs": [],
      "source": [
        "def parse_listfile(wav_list_path):\n",
        "  labels = []\n",
        "  wav1 = []\n",
        "  wav2 = []\n",
        "\n",
        "  with open(wav_list_path) as f:\n",
        "    for line in f:\n",
        "      line = line.rstrip().split(' ')\n",
        "      labels.append(int(line[0]))\n",
        "      wav1.append(line[1])\n",
        "      wav2.append(line[2])\n",
        "  return labels, wav1, wav2"
      ]
    },
    {
      "cell_type": "code",
      "source": [
        "def gen_audio_cache_filename(wav_path: str) -> str:\n",
        "  result = re.match(r\".*/(.+?)/(.+)/(.+?)\\.wav\", wav_path)\n",
        "  spk, cond, wavname = result.groups()\n",
        "  return f\"{spk}-{cond}-{wavname}\""
      ],
      "metadata": {
        "id": "gwnnoZMF9EaM"
      },
      "execution_count": 11,
      "outputs": []
    },
    {
      "cell_type": "markdown",
      "source": [
        "#### `SpeakerRecognition.verify_files(self, path_x, path_y, **kwargs)`について\n",
        "- 中で呼び出されている`self.load_audio(path_x/y, **kwargs)`で，音声を`./audio_cache`にキャッシュしている．\n",
        "- この時，`**kwargs==None`だと，参照する音声ファイルの`{filename}.wav`を`./audio_cache`にキャッシュする．\n",
        "- また，同じ`**kwargs`を二つの音声に対する`load_audio()`に渡している．\n",
        "- これでは同一のファイル名の音声が同一のファイルとして参照されてしまい，違う話者and同一のwav名の場合に正しくスコアが計算できない．\n",
        "- したがって，キャッシュする音声のファイル名にディレクトリの情報を保持できるように処理を変更する．\n",
        "\n",
        "---\n",
        "\n",
        "`SpeakerRecognition.verify_files(*)`は`/usr/local/lib/python3.10/dist-packages/speechbrain/pretrained/interfaces.py`@1198に実装されています．\n",
        "\n",
        "`Pretrained.load_audio(*)`は@274で実装されています．`**kwargs`に与えられるキーワードは`/usr/local/lib/python3.10/dist-packages/speechbrain/pretrained/fetching.py`に説明されています．\n",
        "\n",
        "\n"
      ],
      "metadata": {
        "id": "WlwC79xM3_Ud"
      }
    },
    {
      "cell_type": "code",
      "execution_count": 12,
      "metadata": {
        "id": "0j9LJdrLjW7p"
      },
      "outputs": [],
      "source": [
        "def calc_scores(labels: List[int], wav1: List[str], wav2: List[str]) -> List[float]:\n",
        "  scores = []\n",
        "  for i in tqdm(range(len(labels))):\n",
        "###\n",
        "    waveform_x = verification.load_audio(\n",
        "        wav1[i],\n",
        "        save_filename=gen_audio_cache_filename(wav1[i])\n",
        "        )\n",
        "    waveform_y = verification.load_audio(\n",
        "        wav2[i],\n",
        "        save_filename=gen_audio_cache_filename(wav2[i])\n",
        "        )\n",
        "    # Fake batches:\n",
        "    batch_x = waveform_x.unsqueeze(0)\n",
        "    batch_y = waveform_y.unsqueeze(0)\n",
        "    # Verify:\n",
        "    score, decision = verification.verify_batch(batch_x, batch_y)\n",
        "    # Squeeze:\n",
        "    score, prediction = score[0], decision[0]\n",
        "###\n",
        "    scores.append(score.item())\n",
        "  return scores\n"
      ]
    },
    {
      "cell_type": "code",
      "execution_count": 13,
      "metadata": {
        "id": "zCidxomZgQ6u"
      },
      "outputs": [],
      "source": [
        "def eer_roc_pipeline(wav_list_path: str):\n",
        "  # 音声対が列挙されたファイルを，ラベル，音声1，音声2のリストに分割\n",
        "  labels, wav1, wav2 = parse_listfile(wav_list_path)\n",
        "  # 音声ファイル対について，スコアを計測\n",
        "  scores = calc_scores(labels, wav1, wav2)\n",
        "  # 評価値を計算\n",
        "  fpr, tpr, th, eer, eer_th = compute_eer(labels, scores)\n",
        "\n",
        "  #FAR,FRR,EERの図のプロット\n",
        "  title = re.match(r\".*/(.+).txt\", wav_list_path).group(1)\n",
        "  plt.figure()\n",
        "  plt.plot(th, fpr, marker='o', markersize=1, label=\"FAR\")\n",
        "  plt.plot(th, 1-tpr, marker='o', markersize=1, label=\"FRR\")\n",
        "  plt.plot(eer_th,eer,marker='*', markersize=10, color=\"red\")\n",
        "  plt.xlabel('Threshold')\n",
        "  plt.ylabel('Error Rate')\n",
        "  plt.legend(bbox_to_anchor=(1.05, 1), loc='upper left', borderaxespad=0, fontsize=10)\n",
        "  plt.title(f\"Error Rate Curve: {title}, EER: {eer:.5f}\")\n",
        "  plt.grid()\n",
        "  plt.savefig(f\"{TAR_DIR}/fig/{title}/eer\", bbox_inches='tight', dpi=600)\n",
        "\n",
        "  # scoreの箱ひげ図をプロット\n",
        "  true_pair_scores: List[float] = []\n",
        "  false_pair_scores: List[float] = []\n",
        "  for idx, score in enumerate(scores):\n",
        "    if labels[idx] == 1:\n",
        "      true_pair_scores.append(score)\n",
        "    else:\n",
        "      false_pair_scores.append(score)\n",
        "  # plot\n",
        "  plt.figure()\n",
        "  plt.boxplot(\n",
        "      [true_pair_scores, false_pair_scores],\n",
        "      labels = [\"true-pairs\", \"false-pairs\"],\n",
        "  )\n",
        "  plt.title(f\"Boxplot of Scores for Each Labels\")\n",
        "  plt.hlines(eer_th, 0.8, 2.2)\n",
        "  plt.ylim(-0.3, 0.8)\n",
        "  plt.grid()\n",
        "  plt.savefig(f\"{TAR_DIR}/fig/{title}/box\", bbox_inches='tight', dpi=600)\n",
        "\n",
        "  # 詳細を出力\n",
        "  print(f\"wav_list:{wav_list_path}\")\n",
        "  print(f\"pairs:{len(labels)}\")\n",
        "  # print(\"fpr:\", fpr)\n",
        "  # print(\"tpr:\", tpr)\n",
        "  # print(\"roc_th:\", th)\n",
        "  print(\"eer:\", eer)\n",
        "  print(\"eer_th:\", eer_th)\n",
        "\n",
        "\n",
        "  # pcのtrue_pairのscoreが全体的に低い気がするので，trueでscore < eer_thの対を出力してみる．\n",
        "  print(f\"FalseNegatives(eer_th:{eer_th})\")\n",
        "  for idx, score in enumerate(scores):\n",
        "    if score < eer_th and labels[idx] == 1:\n",
        "      print(f\"score:{score} {wav1[idx]}, {wav2[idx]}\")\n",
        "\n",
        "  # キャッシュを削除\n",
        "  !rm -r /content/audio_cache/\n"
      ]
    },
    {
      "cell_type": "code",
      "execution_count": 15,
      "metadata": {
        "id": "PSM_ZmEFhLck",
        "colab": {
          "base_uri": "https://localhost:8080/",
          "height": 1000
        },
        "outputId": "eec48b45-e02c-4ff2-e7fb-560c53a87763"
      },
      "outputs": [
        {
          "output_type": "stream",
          "name": "stderr",
          "text": [
            "100%|██████████| 1176/1176 [00:45<00:00, 25.95it/s]\n"
          ]
        },
        {
          "output_type": "stream",
          "name": "stdout",
          "text": [
            "wav_list:/content/drive/MyDrive/CS_seminar/data/list/pc_new.txt\n",
            "pairs:1176\n",
            "eer: 0.17847025495736402\n",
            "eer_th: 0.14010643959048208\n",
            "FalseNegatives(eer_th:0.14010643959048208)\n",
            "score:0.10182632505893707 /content/drive/MyDrive/CS_seminar/data/wav/ymgt_C/pc/ymgt-C_pc_01.wav, /content/drive/MyDrive/CS_seminar/data/wav/ymgt_C/pc/ymgt-C_pc_02.wav\n",
            "score:0.08910855650901794 /content/drive/MyDrive/CS_seminar/data/wav/ymgt_C/pc/ymgt-C_pc_01.wav, /content/drive/MyDrive/CS_seminar/data/wav/ymgt_C/pc/ymgt-C_pc_03.wav\n",
            "score:0.06344897300004959 /content/drive/MyDrive/CS_seminar/data/wav/ymgt_E/pc/ymgt-E_pc_02.wav, /content/drive/MyDrive/CS_seminar/data/wav/ymgt_E/pc/ymgt-E_pc_03.wav\n",
            "score:0.08886197209358215 /content/drive/MyDrive/CS_seminar/data/wav/ymgt_E/pc/ymgt-E_pc_02.wav, /content/drive/MyDrive/CS_seminar/data/wav/ymgt_E/pc/ymgt-E_pc_05.wav\n",
            "score:0.09558943659067154 /content/drive/MyDrive/CS_seminar/data/wav/ymgt_E/pc/ymgt-E_pc_04.wav, /content/drive/MyDrive/CS_seminar/data/wav/ymgt_E/pc/ymgt-E_pc_06.wav\n",
            "score:0.08304733783006668 /content/drive/MyDrive/CS_seminar/data/wav/ymgt_D/pc/ymgt-D_pc_01.wav, /content/drive/MyDrive/CS_seminar/data/wav/ymgt_D/pc/ymgt-D_pc_03.wav\n",
            "score:0.05668540671467781 /content/drive/MyDrive/CS_seminar/data/wav/ymgt_D/pc/ymgt-D_pc_01.wav, /content/drive/MyDrive/CS_seminar/data/wav/ymgt_D/pc/ymgt-D_pc_05.wav\n",
            "score:0.11469778418540955 /content/drive/MyDrive/CS_seminar/data/wav/ymgt_D/pc/ymgt-D_pc_02.wav, /content/drive/MyDrive/CS_seminar/data/wav/ymgt_D/pc/ymgt-D_pc_03.wav\n",
            "score:0.13427525758743286 /content/drive/MyDrive/CS_seminar/data/wav/ymgt_D/pc/ymgt-D_pc_02.wav, /content/drive/MyDrive/CS_seminar/data/wav/ymgt_D/pc/ymgt-D_pc_05.wav\n",
            "score:0.10475404560565948 /content/drive/MyDrive/CS_seminar/data/wav/ymgt_D/pc/ymgt-D_pc_03.wav, /content/drive/MyDrive/CS_seminar/data/wav/ymgt_D/pc/ymgt-D_pc_05.wav\n",
            "score:0.1206081286072731 /content/drive/MyDrive/CS_seminar/data/wav/ymgt_D/pc/ymgt-D_pc_04.wav, /content/drive/MyDrive/CS_seminar/data/wav/ymgt_D/pc/ymgt-D_pc_05.wav\n",
            "score:0.06915057450532913 /content/drive/MyDrive/CS_seminar/data/wav/ymgt_D/pc/ymgt-D_pc_04.wav, /content/drive/MyDrive/CS_seminar/data/wav/ymgt_D/pc/ymgt-D_pc_06.wav\n",
            "score:0.05265731364488602 /content/drive/MyDrive/CS_seminar/data/wav/ymgt_F/pc/ymgt-F_pc_03.wav, /content/drive/MyDrive/CS_seminar/data/wav/ymgt_F/pc/ymgt-F_pc_04.wav\n",
            "score:0.1144985556602478 /content/drive/MyDrive/CS_seminar/data/wav/ymgt_F/pc/ymgt-F_pc_04.wav, /content/drive/MyDrive/CS_seminar/data/wav/ymgt_F/pc/ymgt-F_pc_01.wav\n",
            "score:0.13933071494102478 /content/drive/MyDrive/CS_seminar/data/wav/ymgt_F/pc/ymgt-F_pc_04.wav, /content/drive/MyDrive/CS_seminar/data/wav/ymgt_F/pc/ymgt-F_pc_02.wav\n",
            "score:0.09438806027173996 /content/drive/MyDrive/CS_seminar/data/wav/ymgt_F/pc/ymgt-F_pc_04.wav, /content/drive/MyDrive/CS_seminar/data/wav/ymgt_F/pc/ymgt-F_pc_05.wav\n",
            "score:0.045857857912778854 /content/drive/MyDrive/CS_seminar/data/wav/ymgt_A/pc/ymgt-A_pc_01.wav, /content/drive/MyDrive/CS_seminar/data/wav/ymgt_A/pc/ymgt-A_pc_02.wav\n",
            "score:0.1310216337442398 /content/drive/MyDrive/CS_seminar/data/wav/ymgt_A/pc/ymgt-A_pc_01.wav, /content/drive/MyDrive/CS_seminar/data/wav/ymgt_A/pc/ymgt-A_pc_04.wav\n",
            "score:0.0821048840880394 /content/drive/MyDrive/CS_seminar/data/wav/ymgt_A/pc/ymgt-A_pc_02.wav, /content/drive/MyDrive/CS_seminar/data/wav/ymgt_A/pc/ymgt-A_pc_03.wav\n",
            "score:0.06931626051664352 /content/drive/MyDrive/CS_seminar/data/wav/ymgt_A/pc/ymgt-A_pc_02.wav, /content/drive/MyDrive/CS_seminar/data/wav/ymgt_A/pc/ymgt-A_pc_04.wav\n",
            "score:0.13724759221076965 /content/drive/MyDrive/CS_seminar/data/wav/ymgt_A/pc/ymgt-A_pc_03.wav, /content/drive/MyDrive/CS_seminar/data/wav/ymgt_A/pc/ymgt-A_pc_06.wav\n"
          ]
        },
        {
          "output_type": "display_data",
          "data": {
            "text/plain": [
              "<Figure size 640x480 with 1 Axes>"
            ],
            "image/png": "[encoded data removed]"
          },
          "metadata": {}
        },
        {
          "output_type": "display_data",
          "data": {
            "text/plain": [
              "<Figure size 640x480 with 1 Axes>"
            ],
            "image/png": "[encoded data removed]"
          },
          "metadata": {}
        }
      ],
      "source": [
        "# `pc`\n",
        "eer_roc_pipeline(f\"{LIST_DIR}/pc_new.txt\")"
      ]
    },
    {
      "cell_type": "code",
      "source": [
        "# `sp`\n",
        "eer_roc_pipeline(f\"{LIST_DIR}/sp_new.txt\")"
      ],
      "metadata": {
        "colab": {
          "base_uri": "https://localhost:8080/",
          "height": 1000
        },
        "id": "ZcZiaSi6wHY7",
        "outputId": "9de2120a-9c24-4f9b-8063-d0307208852a"
      },
      "execution_count": 16,
      "outputs": [
        {
          "output_type": "stream",
          "name": "stderr",
          "text": [
            "100%|██████████| 1176/1176 [00:58<00:00, 19.98it/s]\n"
          ]
        },
        {
          "output_type": "stream",
          "name": "stdout",
          "text": [
            "wav_list:/content/drive/MyDrive/CS_seminar/data/list/sp_new.txt\n",
            "pairs:1176\n",
            "eer: 0.11111111111111287\n",
            "eer_th: 0.185116919544007\n",
            "FalseNegatives(eer_th:0.185116919544007)\n",
            "score:0.147748664021492 /content/drive/MyDrive/CS_seminar/data/wav/ymgt_B/sp/ymgt-B_sp_04.wav, /content/drive/MyDrive/CS_seminar/data/wav/ymgt_B/sp/ymgt-B_sp_07.wav\n",
            "score:0.179759681224823 /content/drive/MyDrive/CS_seminar/data/wav/ymgt_B/sp/ymgt-B_sp_05.wav, /content/drive/MyDrive/CS_seminar/data/wav/ymgt_B/sp/ymgt-B_sp_07.wav\n",
            "score:0.1760699599981308 /content/drive/MyDrive/CS_seminar/data/wav/tmng/sp/tm_sp1.wav, /content/drive/MyDrive/CS_seminar/data/wav/tmng/sp/tm_sp3.wav\n",
            "score:0.16802085936069489 /content/drive/MyDrive/CS_seminar/data/wav/ymgt_E/sp/ymgt-E_sp_02.wav, /content/drive/MyDrive/CS_seminar/data/wav/ymgt_E/sp/ymgt-E_sp_03.wav\n",
            "score:0.16762547194957733 /content/drive/MyDrive/CS_seminar/data/wav/ymgt_D/sp/ymgt-D_sp_01.wav, /content/drive/MyDrive/CS_seminar/data/wav/ymgt_D/sp/ymgt-D_sp_05.wav\n",
            "score:0.15704345703125 /content/drive/MyDrive/CS_seminar/data/wav/ymgt_D/sp/ymgt-D_sp_02.wav, /content/drive/MyDrive/CS_seminar/data/wav/ymgt_D/sp/ymgt-D_sp_03.wav\n",
            "score:0.1653212606906891 /content/drive/MyDrive/CS_seminar/data/wav/ymgt_D/sp/ymgt-D_sp_04.wav, /content/drive/MyDrive/CS_seminar/data/wav/ymgt_D/sp/ymgt-D_sp_06.wav\n",
            "score:0.13825249671936035 /content/drive/MyDrive/CS_seminar/data/wav/ymgt_D/sp/ymgt-D_sp_05.wav, /content/drive/MyDrive/CS_seminar/data/wav/ymgt_D/sp/ymgt-D_sp_06.wav\n",
            "score:0.15917444229125977 /content/drive/MyDrive/CS_seminar/data/wav/ymgt_F/sp/ymgt-F_sp_01.wav, /content/drive/MyDrive/CS_seminar/data/wav/ymgt_F/sp/ymgt-F_sp_02.wav\n",
            "score:-0.009787112474441528 /content/drive/MyDrive/CS_seminar/data/wav/ymgt_F/sp/ymgt-F_sp_02.wav, /content/drive/MyDrive/CS_seminar/data/wav/ymgt_F/sp/ymgt-F_sp_03.wav\n",
            "score:0.1570930927991867 /content/drive/MyDrive/CS_seminar/data/wav/ymgt_F/sp/ymgt-F_sp_02.wav, /content/drive/MyDrive/CS_seminar/data/wav/ymgt_F/sp/ymgt-F_sp_05.wav\n",
            "score:0.0032615140080451965 /content/drive/MyDrive/CS_seminar/data/wav/ymgt_F/sp/ymgt-F_sp_03.wav, /content/drive/MyDrive/CS_seminar/data/wav/ymgt_F/sp/ymgt-F_sp_04.wav\n",
            "score:0.15643872320652008 /content/drive/MyDrive/CS_seminar/data/wav/ymgt_F/sp/ymgt-F_sp_03.wav, /content/drive/MyDrive/CS_seminar/data/wav/ymgt_F/sp/ymgt-F_sp_06.wav\n"
          ]
        },
        {
          "output_type": "display_data",
          "data": {
            "text/plain": [
              "<Figure size 640x480 with 1 Axes>"
            ],
            "image/png": "[encoded data removed]"
          },
          "metadata": {}
        },
        {
          "output_type": "display_data",
          "data": {
            "text/plain": [
              "<Figure size 640x480 with 1 Axes>"
            ],
            "image/png": "[encoded data removed]"
          },
          "metadata": {}
        }
      ]
    }
  ],
  "metadata": {
    "accelerator": "GPU",
    "colab": {
      "provenance": []
    },
    "kernelspec": {
      "display_name": "Python 3",
      "name": "python3"
    },
    "language_info": {
      "codemirror_mode": {
        "name": "ipython",
        "version": 3
      },
      "file_extension": ".py",
      "mimetype": "text/x-python",
      "name": "python",
      "nbconvert_exporter": "python",
      "pygments_lexer": "ipython3",
      "version": "3.10.9"
    },
    "widgets": {
      "application/vnd.jupyter.widget-state+json": {
        "f8c3889377174d8783d7024c88170bc9": {
          "model_module": "@jupyter-widgets/controls",
          "model_name": "HBoxModel",
          "model_module_version": "1.5.0",
          "state": {
            "_dom_classes": [],
            "_model_module": "@jupyter-widgets/controls",
            "_model_module_version": "1.5.0",
            "_model_name": "HBoxModel",
            "_view_count": null,
            "_view_module": "@jupyter-widgets/controls",
            "_view_module_version": "1.5.0",
            "_view_name": "HBoxView",
            "box_style": "",
            "children": [
              "IPY_MODEL_2daf4ca496bb4eed8238c88ce2c17252",
              "IPY_MODEL_5bac3409a8714be1aeb1e11e51361d4b",
              "IPY_MODEL_3423e73ec7ad498da602defc52e419a3"
            ],
            "layout": "IPY_MODEL_ae7b2e2fb9924d03a93059cadca871f4"
          }
        },
        "2daf4ca496bb4eed8238c88ce2c17252": {
          "model_module": "@jupyter-widgets/controls",
          "model_name": "HTMLModel",
          "model_module_version": "1.5.0",
          "state": {
            "_dom_classes": [],
            "_model_module": "@jupyter-widgets/controls",
            "_model_module_version": "1.5.0",
            "_model_name": "HTMLModel",
            "_view_count": null,
            "_view_module": "@jupyter-widgets/controls",
            "_view_module_version": "1.5.0",
            "_view_name": "HTMLView",
            "description": "",
            "description_tooltip": null,
            "layout": "IPY_MODEL_1ccb4e264add44e5acab371eb1a37451",
            "placeholder": "​",
            "style": "IPY_MODEL_1928ca1cdcd04c4d9ee5086e2cb1ef09",
            "value": "hyperparams.yaml: 100%"
          }
        },
        "5bac3409a8714be1aeb1e11e51361d4b": {
          "model_module": "@jupyter-widgets/controls",
          "model_name": "FloatProgressModel",
          "model_module_version": "1.5.0",
          "state": {
            "_dom_classes": [],
            "_model_module": "@jupyter-widgets/controls",
            "_model_module_version": "1.5.0",
            "_model_name": "FloatProgressModel",
            "_view_count": null,
            "_view_module": "@jupyter-widgets/controls",
            "_view_module_version": "1.5.0",
            "_view_name": "ProgressView",
            "bar_style": "success",
            "description": "",
            "description_tooltip": null,
            "layout": "IPY_MODEL_2caf765b144644399840c0a38aac6db4",
            "max": 1920,
            "min": 0,
            "orientation": "horizontal",
            "style": "IPY_MODEL_4d8b8e5e65ee4a88a65bff9911fae015",
            "value": 1920
          }
        },
        "3423e73ec7ad498da602defc52e419a3": {
          "model_module": "@jupyter-widgets/controls",
          "model_name": "HTMLModel",
          "model_module_version": "1.5.0",
          "state": {
            "_dom_classes": [],
            "_model_module": "@jupyter-widgets/controls",
            "_model_module_version": "1.5.0",
            "_model_name": "HTMLModel",
            "_view_count": null,
            "_view_module": "@jupyter-widgets/controls",
            "_view_module_version": "1.5.0",
            "_view_name": "HTMLView",
            "description": "",
            "description_tooltip": null,
            "layout": "IPY_MODEL_b2947cdc42494702bccf65450234df99",
            "placeholder": "​",
            "style": "IPY_MODEL_e4ca1f13280741e4be2c8965ac1a5c22",
            "value": " 1.92k/1.92k [00:00&lt;00:00, 47.6kB/s]"
          }
        },
        "ae7b2e2fb9924d03a93059cadca871f4": {
          "model_module": "@jupyter-widgets/base",
          "model_name": "LayoutModel",
          "model_module_version": "1.2.0",
          "state": {
            "_model_module": "@jupyter-widgets/base",
            "_model_module_version": "1.2.0",
            "_model_name": "LayoutModel",
            "_view_count": null,
            "_view_module": "@jupyter-widgets/base",
            "_view_module_version": "1.2.0",
            "_view_name": "LayoutView",
            "align_content": null,
            "align_items": null,
            "align_self": null,
            "border": null,
            "bottom": null,
            "display": null,
            "flex": null,
            "flex_flow": null,
            "grid_area": null,
            "grid_auto_columns": null,
            "grid_auto_flow": null,
            "grid_auto_rows": null,
            "grid_column": null,
            "grid_gap": null,
            "grid_row": null,
            "grid_template_areas": null,
            "grid_template_columns": null,
            "grid_template_rows": null,
            "height": null,
            "justify_content": null,
            "justify_items": null,
            "left": null,
            "margin": null,
            "max_height": null,
            "max_width": null,
            "min_height": null,
            "min_width": null,
            "object_fit": null,
            "object_position": null,
            "order": null,
            "overflow": null,
            "overflow_x": null,
            "overflow_y": null,
            "padding": null,
            "right": null,
            "top": null,
            "visibility": null,
            "width": null
          }
        },
        "1ccb4e264add44e5acab371eb1a37451": {
          "model_module": "@jupyter-widgets/base",
          "model_name": "LayoutModel",
          "model_module_version": "1.2.0",
          "state": {
            "_model_module": "@jupyter-widgets/base",
            "_model_module_version": "1.2.0",
            "_model_name": "LayoutModel",
            "_view_count": null,
            "_view_module": "@jupyter-widgets/base",
            "_view_module_version": "1.2.0",
            "_view_name": "LayoutView",
            "align_content": null,
            "align_items": null,
            "align_self": null,
            "border": null,
            "bottom": null,
            "display": null,
            "flex": null,
            "flex_flow": null,
            "grid_area": null,
            "grid_auto_columns": null,
            "grid_auto_flow": null,
            "grid_auto_rows": null,
            "grid_column": null,
            "grid_gap": null,
            "grid_row": null,
            "grid_template_areas": null,
            "grid_template_columns": null,
            "grid_template_rows": null,
            "height": null,
            "justify_content": null,
            "justify_items": null,
            "left": null,
            "margin": null,
            "max_height": null,
            "max_width": null,
            "min_height": null,
            "min_width": null,
            "object_fit": null,
            "object_position": null,
            "order": null,
            "overflow": null,
            "overflow_x": null,
            "overflow_y": null,
            "padding": null,
            "right": null,
            "top": null,
            "visibility": null,
            "width": null
          }
        },
        "1928ca1cdcd04c4d9ee5086e2cb1ef09": {
          "model_module": "@jupyter-widgets/controls",
          "model_name": "DescriptionStyleModel",
          "model_module_version": "1.5.0",
          "state": {
            "_model_module": "@jupyter-widgets/controls",
            "_model_module_version": "1.5.0",
            "_model_name": "DescriptionStyleModel",
            "_view_count": null,
            "_view_module": "@jupyter-widgets/base",
            "_view_module_version": "1.2.0",
            "_view_name": "StyleView",
            "description_width": ""
          }
        },
        "2caf765b144644399840c0a38aac6db4": {
          "model_module": "@jupyter-widgets/base",
          "model_name": "LayoutModel",
          "model_module_version": "1.2.0",
          "state": {
            "_model_module": "@jupyter-widgets/base",
            "_model_module_version": "1.2.0",
            "_model_name": "LayoutModel",
            "_view_count": null,
            "_view_module": "@jupyter-widgets/base",
            "_view_module_version": "1.2.0",
            "_view_name": "LayoutView",
            "align_content": null,
            "align_items": null,
            "align_self": null,
            "border": null,
            "bottom": null,
            "display": null,
            "flex": null,
            "flex_flow": null,
            "grid_area": null,
            "grid_auto_columns": null,
            "grid_auto_flow": null,
            "grid_auto_rows": null,
            "grid_column": null,
            "grid_gap": null,
            "grid_row": null,
            "grid_template_areas": null,
            "grid_template_columns": null,
            "grid_template_rows": null,
            "height": null,
            "justify_content": null,
            "justify_items": null,
            "left": null,
            "margin": null,
            "max_height": null,
            "max_width": null,
            "min_height": null,
            "min_width": null,
            "object_fit": null,
            "object_position": null,
            "order": null,
            "overflow": null,
            "overflow_x": null,
            "overflow_y": null,
            "padding": null,
            "right": null,
            "top": null,
            "visibility": null,
            "width": null
          }
        },
        "4d8b8e5e65ee4a88a65bff9911fae015": {
          "model_module": "@jupyter-widgets/controls",
          "model_name": "ProgressStyleModel",
          "model_module_version": "1.5.0",
          "state": {
            "_model_module": "@jupyter-widgets/controls",
            "_model_module_version": "1.5.0",
            "_model_name": "ProgressStyleModel",
            "_view_count": null,
            "_view_module": "@jupyter-widgets/base",
            "_view_module_version": "1.2.0",
            "_view_name": "StyleView",
            "bar_color": null,
            "description_width": ""
          }
        },
        "b2947cdc42494702bccf65450234df99": {
          "model_module": "@jupyter-widgets/base",
          "model_name": "LayoutModel",
          "model_module_version": "1.2.0",
          "state": {
            "_model_module": "@jupyter-widgets/base",
            "_model_module_version": "1.2.0",
            "_model_name": "LayoutModel",
            "_view_count": null,
            "_view_module": "@jupyter-widgets/base",
            "_view_module_version": "1.2.0",
            "_view_name": "LayoutView",
            "align_content": null,
            "align_items": null,
            "align_self": null,
            "border": null,
            "bottom": null,
            "display": null,
            "flex": null,
            "flex_flow": null,
            "grid_area": null,
            "grid_auto_columns": null,
            "grid_auto_flow": null,
            "grid_auto_rows": null,
            "grid_column": null,
            "grid_gap": null,
            "grid_row": null,
            "grid_template_areas": null,
            "grid_template_columns": null,
            "grid_template_rows": null,
            "height": null,
            "justify_content": null,
            "justify_items": null,
            "left": null,
            "margin": null,
            "max_height": null,
            "max_width": null,
            "min_height": null,
            "min_width": null,
            "object_fit": null,
            "object_position": null,
            "order": null,
            "overflow": null,
            "overflow_x": null,
            "overflow_y": null,
            "padding": null,
            "right": null,
            "top": null,
            "visibility": null,
            "width": null
          }
        },
        "e4ca1f13280741e4be2c8965ac1a5c22": {
          "model_module": "@jupyter-widgets/controls",
          "model_name": "DescriptionStyleModel",
          "model_module_version": "1.5.0",
          "state": {
            "_model_module": "@jupyter-widgets/controls",
            "_model_module_version": "1.5.0",
            "_model_name": "DescriptionStyleModel",
            "_view_count": null,
            "_view_module": "@jupyter-widgets/base",
            "_view_module_version": "1.2.0",
            "_view_name": "StyleView",
            "description_width": ""
          }
        },
        "519c036bb44f4af1beab8c993f746cb7": {
          "model_module": "@jupyter-widgets/controls",
          "model_name": "HBoxModel",
          "model_module_version": "1.5.0",
          "state": {
            "_dom_classes": [],
            "_model_module": "@jupyter-widgets/controls",
            "_model_module_version": "1.5.0",
            "_model_name": "HBoxModel",
            "_view_count": null,
            "_view_module": "@jupyter-widgets/controls",
            "_view_module_version": "1.5.0",
            "_view_name": "HBoxView",
            "box_style": "",
            "children": [
              "IPY_MODEL_01e6e626669543b7819a08f4aec8343a",
              "IPY_MODEL_78fca5d686774e81b5301a99bbcd0918",
              "IPY_MODEL_20cd6ba639f84f0badd3413456f94598"
            ],
            "layout": "IPY_MODEL_d81f76ebc3b74d89a497240fe1d6f8e2"
          }
        },
        "01e6e626669543b7819a08f4aec8343a": {
          "model_module": "@jupyter-widgets/controls",
          "model_name": "HTMLModel",
          "model_module_version": "1.5.0",
          "state": {
            "_dom_classes": [],
            "_model_module": "@jupyter-widgets/controls",
            "_model_module_version": "1.5.0",
            "_model_name": "HTMLModel",
            "_view_count": null,
            "_view_module": "@jupyter-widgets/controls",
            "_view_module_version": "1.5.0",
            "_view_name": "HTMLView",
            "description": "",
            "description_tooltip": null,
            "layout": "IPY_MODEL_b429f424d99645c386c2a6eada4e3846",
            "placeholder": "​",
            "style": "IPY_MODEL_879301ad39654f889b3894d5a314c21c",
            "value": "embedding_model.ckpt: 100%"
          }
        },
        "78fca5d686774e81b5301a99bbcd0918": {
          "model_module": "@jupyter-widgets/controls",
          "model_name": "FloatProgressModel",
          "model_module_version": "1.5.0",
          "state": {
            "_dom_classes": [],
            "_model_module": "@jupyter-widgets/controls",
            "_model_module_version": "1.5.0",
            "_model_name": "FloatProgressModel",
            "_view_count": null,
            "_view_module": "@jupyter-widgets/controls",
            "_view_module_version": "1.5.0",
            "_view_name": "ProgressView",
            "bar_style": "success",
            "description": "",
            "description_tooltip": null,
            "layout": "IPY_MODEL_c3cdef28cfd24aadbed58fadd6219ced",
            "max": 83316686,
            "min": 0,
            "orientation": "horizontal",
            "style": "IPY_MODEL_6dd67543ec1343f78708387115737432",
            "value": 83316686
          }
        },
        "20cd6ba639f84f0badd3413456f94598": {
          "model_module": "@jupyter-widgets/controls",
          "model_name": "HTMLModel",
          "model_module_version": "1.5.0",
          "state": {
            "_dom_classes": [],
            "_model_module": "@jupyter-widgets/controls",
            "_model_module_version": "1.5.0",
            "_model_name": "HTMLModel",
            "_view_count": null,
            "_view_module": "@jupyter-widgets/controls",
            "_view_module_version": "1.5.0",
            "_view_name": "HTMLView",
            "description": "",
            "description_tooltip": null,
            "layout": "IPY_MODEL_9548b94ce7d04b6ea6e0b0ce1f5f3688",
            "placeholder": "​",
            "style": "IPY_MODEL_a2f48886c5354430b1bb33546456d738",
            "value": " 83.3M/83.3M [00:00&lt;00:00, 129MB/s]"
          }
        },
        "d81f76ebc3b74d89a497240fe1d6f8e2": {
          "model_module": "@jupyter-widgets/base",
          "model_name": "LayoutModel",
          "model_module_version": "1.2.0",
          "state": {
            "_model_module": "@jupyter-widgets/base",
            "_model_module_version": "1.2.0",
            "_model_name": "LayoutModel",
            "_view_count": null,
            "_view_module": "@jupyter-widgets/base",
            "_view_module_version": "1.2.0",
            "_view_name": "LayoutView",
            "align_content": null,
            "align_items": null,
            "align_self": null,
            "border": null,
            "bottom": null,
            "display": null,
            "flex": null,
            "flex_flow": null,
            "grid_area": null,
            "grid_auto_columns": null,
            "grid_auto_flow": null,
            "grid_auto_rows": null,
            "grid_column": null,
            "grid_gap": null,
            "grid_row": null,
            "grid_template_areas": null,
            "grid_template_columns": null,
            "grid_template_rows": null,
            "height": null,
            "justify_content": null,
            "justify_items": null,
            "left": null,
            "margin": null,
            "max_height": null,
            "max_width": null,
            "min_height": null,
            "min_width": null,
            "object_fit": null,
            "object_position": null,
            "order": null,
            "overflow": null,
            "overflow_x": null,
            "overflow_y": null,
            "padding": null,
            "right": null,
            "top": null,
            "visibility": null,
            "width": null
          }
        },
        "b429f424d99645c386c2a6eada4e3846": {
          "model_module": "@jupyter-widgets/base",
          "model_name": "LayoutModel",
          "model_module_version": "1.2.0",
          "state": {
            "_model_module": "@jupyter-widgets/base",
            "_model_module_version": "1.2.0",
            "_model_name": "LayoutModel",
            "_view_count": null,
            "_view_module": "@jupyter-widgets/base",
            "_view_module_version": "1.2.0",
            "_view_name": "LayoutView",
            "align_content": null,
            "align_items": null,
            "align_self": null,
            "border": null,
            "bottom": null,
            "display": null,
            "flex": null,
            "flex_flow": null,
            "grid_area": null,
            "grid_auto_columns": null,
            "grid_auto_flow": null,
            "grid_auto_rows": null,
            "grid_column": null,
            "grid_gap": null,
            "grid_row": null,
            "grid_template_areas": null,
            "grid_template_columns": null,
            "grid_template_rows": null,
            "height": null,
            "justify_content": null,
            "justify_items": null,
            "left": null,
            "margin": null,
            "max_height": null,
            "max_width": null,
            "min_height": null,
            "min_width": null,
            "object_fit": null,
            "object_position": null,
            "order": null,
            "overflow": null,
            "overflow_x": null,
            "overflow_y": null,
            "padding": null,
            "right": null,
            "top": null,
            "visibility": null,
            "width": null
          }
        },
        "879301ad39654f889b3894d5a314c21c": {
          "model_module": "@jupyter-widgets/controls",
          "model_name": "DescriptionStyleModel",
          "model_module_version": "1.5.0",
          "state": {
            "_model_module": "@jupyter-widgets/controls",
            "_model_module_version": "1.5.0",
            "_model_name": "DescriptionStyleModel",
            "_view_count": null,
            "_view_module": "@jupyter-widgets/base",
            "_view_module_version": "1.2.0",
            "_view_name": "StyleView",
            "description_width": ""
          }
        },
        "c3cdef28cfd24aadbed58fadd6219ced": {
          "model_module": "@jupyter-widgets/base",
          "model_name": "LayoutModel",
          "model_module_version": "1.2.0",
          "state": {
            "_model_module": "@jupyter-widgets/base",
            "_model_module_version": "1.2.0",
            "_model_name": "LayoutModel",
            "_view_count": null,
            "_view_module": "@jupyter-widgets/base",
            "_view_module_version": "1.2.0",
            "_view_name": "LayoutView",
            "align_content": null,
            "align_items": null,
            "align_self": null,
            "border": null,
            "bottom": null,
            "display": null,
            "flex": null,
            "flex_flow": null,
            "grid_area": null,
            "grid_auto_columns": null,
            "grid_auto_flow": null,
            "grid_auto_rows": null,
            "grid_column": null,
            "grid_gap": null,
            "grid_row": null,
            "grid_template_areas": null,
            "grid_template_columns": null,
            "grid_template_rows": null,
            "height": null,
            "justify_content": null,
            "justify_items": null,
            "left": null,
            "margin": null,
            "max_height": null,
            "max_width": null,
            "min_height": null,
            "min_width": null,
            "object_fit": null,
            "object_position": null,
            "order": null,
            "overflow": null,
            "overflow_x": null,
            "overflow_y": null,
            "padding": null,
            "right": null,
            "top": null,
            "visibility": null,
            "width": null
          }
        },
        "6dd67543ec1343f78708387115737432": {
          "model_module": "@jupyter-widgets/controls",
          "model_name": "ProgressStyleModel",
          "model_module_version": "1.5.0",
          "state": {
            "_model_module": "@jupyter-widgets/controls",
            "_model_module_version": "1.5.0",
            "_model_name": "ProgressStyleModel",
            "_view_count": null,
            "_view_module": "@jupyter-widgets/base",
            "_view_module_version": "1.2.0",
            "_view_name": "StyleView",
            "bar_color": null,
            "description_width": ""
          }
        },
        "9548b94ce7d04b6ea6e0b0ce1f5f3688": {
          "model_module": "@jupyter-widgets/base",
          "model_name": "LayoutModel",
          "model_module_version": "1.2.0",
          "state": {
            "_model_module": "@jupyter-widgets/base",
            "_model_module_version": "1.2.0",
            "_model_name": "LayoutModel",
            "_view_count": null,
            "_view_module": "@jupyter-widgets/base",
            "_view_module_version": "1.2.0",
            "_view_name": "LayoutView",
            "align_content": null,
            "align_items": null,
            "align_self": null,
            "border": null,
            "bottom": null,
            "display": null,
            "flex": null,
            "flex_flow": null,
            "grid_area": null,
            "grid_auto_columns": null,
            "grid_auto_flow": null,
            "grid_auto_rows": null,
            "grid_column": null,
            "grid_gap": null,
            "grid_row": null,
            "grid_template_areas": null,
            "grid_template_columns": null,
            "grid_template_rows": null,
            "height": null,
            "justify_content": null,
            "justify_items": null,
            "left": null,
            "margin": null,
            "max_height": null,
            "max_width": null,
            "min_height": null,
            "min_width": null,
            "object_fit": null,
            "object_position": null,
            "order": null,
            "overflow": null,
            "overflow_x": null,
            "overflow_y": null,
            "padding": null,
            "right": null,
            "top": null,
            "visibility": null,
            "width": null
          }
        },
        "a2f48886c5354430b1bb33546456d738": {
          "model_module": "@jupyter-widgets/controls",
          "model_name": "DescriptionStyleModel",
          "model_module_version": "1.5.0",
          "state": {
            "_model_module": "@jupyter-widgets/controls",
            "_model_module_version": "1.5.0",
            "_model_name": "DescriptionStyleModel",
            "_view_count": null,
            "_view_module": "@jupyter-widgets/base",
            "_view_module_version": "1.2.0",
            "_view_name": "StyleView",
            "description_width": ""
          }
        },
        "22bfa148eb254f249a79088f35e01207": {
          "model_module": "@jupyter-widgets/controls",
          "model_name": "HBoxModel",
          "model_module_version": "1.5.0",
          "state": {
            "_dom_classes": [],
            "_model_module": "@jupyter-widgets/controls",
            "_model_module_version": "1.5.0",
            "_model_name": "HBoxModel",
            "_view_count": null,
            "_view_module": "@jupyter-widgets/controls",
            "_view_module_version": "1.5.0",
            "_view_name": "HBoxView",
            "box_style": "",
            "children": [
              "IPY_MODEL_7beda3e8a7014df1a4979771975402be",
              "IPY_MODEL_86d79549cf5b46c9bb36f2509f0e8e28",
              "IPY_MODEL_445ec70874914ab59d1177132ed9fd4d"
            ],
            "layout": "IPY_MODEL_bba4a8c9eab24951ba78dccb1e1febf1"
          }
        },
        "7beda3e8a7014df1a4979771975402be": {
          "model_module": "@jupyter-widgets/controls",
          "model_name": "HTMLModel",
          "model_module_version": "1.5.0",
          "state": {
            "_dom_classes": [],
            "_model_module": "@jupyter-widgets/controls",
            "_model_module_version": "1.5.0",
            "_model_name": "HTMLModel",
            "_view_count": null,
            "_view_module": "@jupyter-widgets/controls",
            "_view_module_version": "1.5.0",
            "_view_name": "HTMLView",
            "description": "",
            "description_tooltip": null,
            "layout": "IPY_MODEL_2fbdf2f8ae64494094b66f00cc9846c6",
            "placeholder": "​",
            "style": "IPY_MODEL_110b81c7ece545e1af149c0a102e514d",
            "value": "mean_var_norm_emb.ckpt: 100%"
          }
        },
        "86d79549cf5b46c9bb36f2509f0e8e28": {
          "model_module": "@jupyter-widgets/controls",
          "model_name": "FloatProgressModel",
          "model_module_version": "1.5.0",
          "state": {
            "_dom_classes": [],
            "_model_module": "@jupyter-widgets/controls",
            "_model_module_version": "1.5.0",
            "_model_name": "FloatProgressModel",
            "_view_count": null,
            "_view_module": "@jupyter-widgets/controls",
            "_view_module_version": "1.5.0",
            "_view_name": "ProgressView",
            "bar_style": "success",
            "description": "",
            "description_tooltip": null,
            "layout": "IPY_MODEL_850dd1293ef3422181a7224561d0b13d",
            "max": 1921,
            "min": 0,
            "orientation": "horizontal",
            "style": "IPY_MODEL_8e28aa6513e747629a376bcf41e64520",
            "value": 1921
          }
        },
        "445ec70874914ab59d1177132ed9fd4d": {
          "model_module": "@jupyter-widgets/controls",
          "model_name": "HTMLModel",
          "model_module_version": "1.5.0",
          "state": {
            "_dom_classes": [],
            "_model_module": "@jupyter-widgets/controls",
            "_model_module_version": "1.5.0",
            "_model_name": "HTMLModel",
            "_view_count": null,
            "_view_module": "@jupyter-widgets/controls",
            "_view_module_version": "1.5.0",
            "_view_name": "HTMLView",
            "description": "",
            "description_tooltip": null,
            "layout": "IPY_MODEL_d5988f8b0b8842489054c35a9413a627",
            "placeholder": "​",
            "style": "IPY_MODEL_eea88c2edbca40818d1dd96a99d294cd",
            "value": " 1.92k/1.92k [00:00&lt;00:00, 49.7kB/s]"
          }
        },
        "bba4a8c9eab24951ba78dccb1e1febf1": {
          "model_module": "@jupyter-widgets/base",
          "model_name": "LayoutModel",
          "model_module_version": "1.2.0",
          "state": {
            "_model_module": "@jupyter-widgets/base",
            "_model_module_version": "1.2.0",
            "_model_name": "LayoutModel",
            "_view_count": null,
            "_view_module": "@jupyter-widgets/base",
            "_view_module_version": "1.2.0",
            "_view_name": "LayoutView",
            "align_content": null,
            "align_items": null,
            "align_self": null,
            "border": null,
            "bottom": null,
            "display": null,
            "flex": null,
            "flex_flow": null,
            "grid_area": null,
            "grid_auto_columns": null,
            "grid_auto_flow": null,
            "grid_auto_rows": null,
            "grid_column": null,
            "grid_gap": null,
            "grid_row": null,
            "grid_template_areas": null,
            "grid_template_columns": null,
            "grid_template_rows": null,
            "height": null,
            "justify_content": null,
            "justify_items": null,
            "left": null,
            "margin": null,
            "max_height": null,
            "max_width": null,
            "min_height": null,
            "min_width": null,
            "object_fit": null,
            "object_position": null,
            "order": null,
            "overflow": null,
            "overflow_x": null,
            "overflow_y": null,
            "padding": null,
            "right": null,
            "top": null,
            "visibility": null,
            "width": null
          }
        },
        "2fbdf2f8ae64494094b66f00cc9846c6": {
          "model_module": "@jupyter-widgets/base",
          "model_name": "LayoutModel",
          "model_module_version": "1.2.0",
          "state": {
            "_model_module": "@jupyter-widgets/base",
            "_model_module_version": "1.2.0",
            "_model_name": "LayoutModel",
            "_view_count": null,
            "_view_module": "@jupyter-widgets/base",
            "_view_module_version": "1.2.0",
            "_view_name": "LayoutView",
            "align_content": null,
            "align_items": null,
            "align_self": null,
            "border": null,
            "bottom": null,
            "display": null,
            "flex": null,
            "flex_flow": null,
            "grid_area": null,
            "grid_auto_columns": null,
            "grid_auto_flow": null,
            "grid_auto_rows": null,
            "grid_column": null,
            "grid_gap": null,
            "grid_row": null,
            "grid_template_areas": null,
            "grid_template_columns": null,
            "grid_template_rows": null,
            "height": null,
            "justify_content": null,
            "justify_items": null,
            "left": null,
            "margin": null,
            "max_height": null,
            "max_width": null,
            "min_height": null,
            "min_width": null,
            "object_fit": null,
            "object_position": null,
            "order": null,
            "overflow": null,
            "overflow_x": null,
            "overflow_y": null,
            "padding": null,
            "right": null,
            "top": null,
            "visibility": null,
            "width": null
          }
        },
        "110b81c7ece545e1af149c0a102e514d": {
          "model_module": "@jupyter-widgets/controls",
          "model_name": "DescriptionStyleModel",
          "model_module_version": "1.5.0",
          "state": {
            "_model_module": "@jupyter-widgets/controls",
            "_model_module_version": "1.5.0",
            "_model_name": "DescriptionStyleModel",
            "_view_count": null,
            "_view_module": "@jupyter-widgets/base",
            "_view_module_version": "1.2.0",
            "_view_name": "StyleView",
            "description_width": ""
          }
        },
        "850dd1293ef3422181a7224561d0b13d": {
          "model_module": "@jupyter-widgets/base",
          "model_name": "LayoutModel",
          "model_module_version": "1.2.0",
          "state": {
            "_model_module": "@jupyter-widgets/base",
            "_model_module_version": "1.2.0",
            "_model_name": "LayoutModel",
            "_view_count": null,
            "_view_module": "@jupyter-widgets/base",
            "_view_module_version": "1.2.0",
            "_view_name": "LayoutView",
            "align_content": null,
            "align_items": null,
            "align_self": null,
            "border": null,
            "bottom": null,
            "display": null,
            "flex": null,
            "flex_flow": null,
            "grid_area": null,
            "grid_auto_columns": null,
            "grid_auto_flow": null,
            "grid_auto_rows": null,
            "grid_column": null,
            "grid_gap": null,
            "grid_row": null,
            "grid_template_areas": null,
            "grid_template_columns": null,
            "grid_template_rows": null,
            "height": null,
            "justify_content": null,
            "justify_items": null,
            "left": null,
            "margin": null,
            "max_height": null,
            "max_width": null,
            "min_height": null,
            "min_width": null,
            "object_fit": null,
            "object_position": null,
            "order": null,
            "overflow": null,
            "overflow_x": null,
            "overflow_y": null,
            "padding": null,
            "right": null,
            "top": null,
            "visibility": null,
            "width": null
          }
        },
        "8e28aa6513e747629a376bcf41e64520": {
          "model_module": "@jupyter-widgets/controls",
          "model_name": "ProgressStyleModel",
          "model_module_version": "1.5.0",
          "state": {
            "_model_module": "@jupyter-widgets/controls",
            "_model_module_version": "1.5.0",
            "_model_name": "ProgressStyleModel",
            "_view_count": null,
            "_view_module": "@jupyter-widgets/base",
            "_view_module_version": "1.2.0",
            "_view_name": "StyleView",
            "bar_color": null,
            "description_width": ""
          }
        },
        "d5988f8b0b8842489054c35a9413a627": {
          "model_module": "@jupyter-widgets/base",
          "model_name": "LayoutModel",
          "model_module_version": "1.2.0",
          "state": {
            "_model_module": "@jupyter-widgets/base",
            "_model_module_version": "1.2.0",
            "_model_name": "LayoutModel",
            "_view_count": null,
            "_view_module": "@jupyter-widgets/base",
            "_view_module_version": "1.2.0",
            "_view_name": "LayoutView",
            "align_content": null,
            "align_items": null,
            "align_self": null,
            "border": null,
            "bottom": null,
            "display": null,
            "flex": null,
            "flex_flow": null,
            "grid_area": null,
            "grid_auto_columns": null,
            "grid_auto_flow": null,
            "grid_auto_rows": null,
            "grid_column": null,
            "grid_gap": null,
            "grid_row": null,
            "grid_template_areas": null,
            "grid_template_columns": null,
            "grid_template_rows": null,
            "height": null,
            "justify_content": null,
            "justify_items": null,
            "left": null,
            "margin": null,
            "max_height": null,
            "max_width": null,
            "min_height": null,
            "min_width": null,
            "object_fit": null,
            "object_position": null,
            "order": null,
            "overflow": null,
            "overflow_x": null,
            "overflow_y": null,
            "padding": null,
            "right": null,
            "top": null,
            "visibility": null,
            "width": null
          }
        },
        "eea88c2edbca40818d1dd96a99d294cd": {
          "model_module": "@jupyter-widgets/controls",
          "model_name": "DescriptionStyleModel",
          "model_module_version": "1.5.0",
          "state": {
            "_model_module": "@jupyter-widgets/controls",
            "_model_module_version": "1.5.0",
            "_model_name": "DescriptionStyleModel",
            "_view_count": null,
            "_view_module": "@jupyter-widgets/base",
            "_view_module_version": "1.2.0",
            "_view_name": "StyleView",
            "description_width": ""
          }
        },
        "0877cfce04d642bc869bf49d1d44db3e": {
          "model_module": "@jupyter-widgets/controls",
          "model_name": "HBoxModel",
          "model_module_version": "1.5.0",
          "state": {
            "_dom_classes": [],
            "_model_module": "@jupyter-widgets/controls",
            "_model_module_version": "1.5.0",
            "_model_name": "HBoxModel",
            "_view_count": null,
            "_view_module": "@jupyter-widgets/controls",
            "_view_module_version": "1.5.0",
            "_view_name": "HBoxView",
            "box_style": "",
            "children": [
              "IPY_MODEL_77cd6d4d2e844405b7678f491d505469",
              "IPY_MODEL_eebf7a1a11a149788c96e2122b73e596",
              "IPY_MODEL_311a95b4e8034f378c6f4ff4dbc83ff2"
            ],
            "layout": "IPY_MODEL_72273774f27f41348073fe2fd608ac68"
          }
        },
        "77cd6d4d2e844405b7678f491d505469": {
          "model_module": "@jupyter-widgets/controls",
          "model_name": "HTMLModel",
          "model_module_version": "1.5.0",
          "state": {
            "_dom_classes": [],
            "_model_module": "@jupyter-widgets/controls",
            "_model_module_version": "1.5.0",
            "_model_name": "HTMLModel",
            "_view_count": null,
            "_view_module": "@jupyter-widgets/controls",
            "_view_module_version": "1.5.0",
            "_view_name": "HTMLView",
            "description": "",
            "description_tooltip": null,
            "layout": "IPY_MODEL_e5a76966f2bf4ad7b0e01e6f1d11e216",
            "placeholder": "​",
            "style": "IPY_MODEL_1ba2b366d35d43a5993e808eb4023a8e",
            "value": "classifier.ckpt: 100%"
          }
        },
        "eebf7a1a11a149788c96e2122b73e596": {
          "model_module": "@jupyter-widgets/controls",
          "model_name": "FloatProgressModel",
          "model_module_version": "1.5.0",
          "state": {
            "_dom_classes": [],
            "_model_module": "@jupyter-widgets/controls",
            "_model_module_version": "1.5.0",
            "_model_name": "FloatProgressModel",
            "_view_count": null,
            "_view_module": "@jupyter-widgets/controls",
            "_view_module_version": "1.5.0",
            "_view_name": "ProgressView",
            "bar_style": "success",
            "description": "",
            "description_tooltip": null,
            "layout": "IPY_MODEL_24e9137cdc474435baeb124982db2125",
            "max": 5534328,
            "min": 0,
            "orientation": "horizontal",
            "style": "IPY_MODEL_af1aa3e603b247a1a6f57f64886449eb",
            "value": 5534328
          }
        },
        "311a95b4e8034f378c6f4ff4dbc83ff2": {
          "model_module": "@jupyter-widgets/controls",
          "model_name": "HTMLModel",
          "model_module_version": "1.5.0",
          "state": {
            "_dom_classes": [],
            "_model_module": "@jupyter-widgets/controls",
            "_model_module_version": "1.5.0",
            "_model_name": "HTMLModel",
            "_view_count": null,
            "_view_module": "@jupyter-widgets/controls",
            "_view_module_version": "1.5.0",
            "_view_name": "HTMLView",
            "description": "",
            "description_tooltip": null,
            "layout": "IPY_MODEL_220d6ec8bee04d60805d6f7e411d821f",
            "placeholder": "​",
            "style": "IPY_MODEL_6f6afd00794f4f94849a96d19cdc476b",
            "value": " 5.53M/5.53M [00:00&lt;00:00, 69.1MB/s]"
          }
        },
        "72273774f27f41348073fe2fd608ac68": {
          "model_module": "@jupyter-widgets/base",
          "model_name": "LayoutModel",
          "model_module_version": "1.2.0",
          "state": {
            "_model_module": "@jupyter-widgets/base",
            "_model_module_version": "1.2.0",
            "_model_name": "LayoutModel",
            "_view_count": null,
            "_view_module": "@jupyter-widgets/base",
            "_view_module_version": "1.2.0",
            "_view_name": "LayoutView",
            "align_content": null,
            "align_items": null,
            "align_self": null,
            "border": null,
            "bottom": null,
            "display": null,
            "flex": null,
            "flex_flow": null,
            "grid_area": null,
            "grid_auto_columns": null,
            "grid_auto_flow": null,
            "grid_auto_rows": null,
            "grid_column": null,
            "grid_gap": null,
            "grid_row": null,
            "grid_template_areas": null,
            "grid_template_columns": null,
            "grid_template_rows": null,
            "height": null,
            "justify_content": null,
            "justify_items": null,
            "left": null,
            "margin": null,
            "max_height": null,
            "max_width": null,
            "min_height": null,
            "min_width": null,
            "object_fit": null,
            "object_position": null,
            "order": null,
            "overflow": null,
            "overflow_x": null,
            "overflow_y": null,
            "padding": null,
            "right": null,
            "top": null,
            "visibility": null,
            "width": null
          }
        },
        "e5a76966f2bf4ad7b0e01e6f1d11e216": {
          "model_module": "@jupyter-widgets/base",
          "model_name": "LayoutModel",
          "model_module_version": "1.2.0",
          "state": {
            "_model_module": "@jupyter-widgets/base",
            "_model_module_version": "1.2.0",
            "_model_name": "LayoutModel",
            "_view_count": null,
            "_view_module": "@jupyter-widgets/base",
            "_view_module_version": "1.2.0",
            "_view_name": "LayoutView",
            "align_content": null,
            "align_items": null,
            "align_self": null,
            "border": null,
            "bottom": null,
            "display": null,
            "flex": null,
            "flex_flow": null,
            "grid_area": null,
            "grid_auto_columns": null,
            "grid_auto_flow": null,
            "grid_auto_rows": null,
            "grid_column": null,
            "grid_gap": null,
            "grid_row": null,
            "grid_template_areas": null,
            "grid_template_columns": null,
            "grid_template_rows": null,
            "height": null,
            "justify_content": null,
            "justify_items": null,
            "left": null,
            "margin": null,
            "max_height": null,
            "max_width": null,
            "min_height": null,
            "min_width": null,
            "object_fit": null,
            "object_position": null,
            "order": null,
            "overflow": null,
            "overflow_x": null,
            "overflow_y": null,
            "padding": null,
            "right": null,
            "top": null,
            "visibility": null,
            "width": null
          }
        },
        "1ba2b366d35d43a5993e808eb4023a8e": {
          "model_module": "@jupyter-widgets/controls",
          "model_name": "DescriptionStyleModel",
          "model_module_version": "1.5.0",
          "state": {
            "_model_module": "@jupyter-widgets/controls",
            "_model_module_version": "1.5.0",
            "_model_name": "DescriptionStyleModel",
            "_view_count": null,
            "_view_module": "@jupyter-widgets/base",
            "_view_module_version": "1.2.0",
            "_view_name": "StyleView",
            "description_width": ""
          }
        },
        "24e9137cdc474435baeb124982db2125": {
          "model_module": "@jupyter-widgets/base",
          "model_name": "LayoutModel",
          "model_module_version": "1.2.0",
          "state": {
            "_model_module": "@jupyter-widgets/base",
            "_model_module_version": "1.2.0",
            "_model_name": "LayoutModel",
            "_view_count": null,
            "_view_module": "@jupyter-widgets/base",
            "_view_module_version": "1.2.0",
            "_view_name": "LayoutView",
            "align_content": null,
            "align_items": null,
            "align_self": null,
            "border": null,
            "bottom": null,
            "display": null,
            "flex": null,
            "flex_flow": null,
            "grid_area": null,
            "grid_auto_columns": null,
            "grid_auto_flow": null,
            "grid_auto_rows": null,
            "grid_column": null,
            "grid_gap": null,
            "grid_row": null,
            "grid_template_areas": null,
            "grid_template_columns": null,
            "grid_template_rows": null,
            "height": null,
            "justify_content": null,
            "justify_items": null,
            "left": null,
            "margin": null,
            "max_height": null,
            "max_width": null,
            "min_height": null,
            "min_width": null,
            "object_fit": null,
            "object_position": null,
            "order": null,
            "overflow": null,
            "overflow_x": null,
            "overflow_y": null,
            "padding": null,
            "right": null,
            "top": null,
            "visibility": null,
            "width": null
          }
        },
        "af1aa3e603b247a1a6f57f64886449eb": {
          "model_module": "@jupyter-widgets/controls",
          "model_name": "ProgressStyleModel",
          "model_module_version": "1.5.0",
          "state": {
            "_model_module": "@jupyter-widgets/controls",
            "_model_module_version": "1.5.0",
            "_model_name": "ProgressStyleModel",
            "_view_count": null,
            "_view_module": "@jupyter-widgets/base",
            "_view_module_version": "1.2.0",
            "_view_name": "StyleView",
            "bar_color": null,
            "description_width": ""
          }
        },
        "220d6ec8bee04d60805d6f7e411d821f": {
          "model_module": "@jupyter-widgets/base",
          "model_name": "LayoutModel",
          "model_module_version": "1.2.0",
          "state": {
            "_model_module": "@jupyter-widgets/base",
            "_model_module_version": "1.2.0",
            "_model_name": "LayoutModel",
            "_view_count": null,
            "_view_module": "@jupyter-widgets/base",
            "_view_module_version": "1.2.0",
            "_view_name": "LayoutView",
            "align_content": null,
            "align_items": null,
            "align_self": null,
            "border": null,
            "bottom": null,
            "display": null,
            "flex": null,
            "flex_flow": null,
            "grid_area": null,
            "grid_auto_columns": null,
            "grid_auto_flow": null,
            "grid_auto_rows": null,
            "grid_column": null,
            "grid_gap": null,
            "grid_row": null,
            "grid_template_areas": null,
            "grid_template_columns": null,
            "grid_template_rows": null,
            "height": null,
            "justify_content": null,
            "justify_items": null,
            "left": null,
            "margin": null,
            "max_height": null,
            "max_width": null,
            "min_height": null,
            "min_width": null,
            "object_fit": null,
            "object_position": null,
            "order": null,
            "overflow": null,
            "overflow_x": null,
            "overflow_y": null,
            "padding": null,
            "right": null,
            "top": null,
            "visibility": null,
            "width": null
          }
        },
        "6f6afd00794f4f94849a96d19cdc476b": {
          "model_module": "@jupyter-widgets/controls",
          "model_name": "DescriptionStyleModel",
          "model_module_version": "1.5.0",
          "state": {
            "_model_module": "@jupyter-widgets/controls",
            "_model_module_version": "1.5.0",
            "_model_name": "DescriptionStyleModel",
            "_view_count": null,
            "_view_module": "@jupyter-widgets/base",
            "_view_module_version": "1.2.0",
            "_view_name": "StyleView",
            "description_width": ""
          }
        },
        "5f625362ef9b4ec7806ffc5921a5f2c6": {
          "model_module": "@jupyter-widgets/controls",
          "model_name": "HBoxModel",
          "model_module_version": "1.5.0",
          "state": {
            "_dom_classes": [],
            "_model_module": "@jupyter-widgets/controls",
            "_model_module_version": "1.5.0",
            "_model_name": "HBoxModel",
            "_view_count": null,
            "_view_module": "@jupyter-widgets/controls",
            "_view_module_version": "1.5.0",
            "_view_name": "HBoxView",
            "box_style": "",
            "children": [
              "IPY_MODEL_c36c637133b240d89556bd19e02e651a",
              "IPY_MODEL_c7bb2c95385042858ea3b6f947ee9435",
              "IPY_MODEL_ebf042f99b8d446f93aa70aecf1bf64f"
            ],
            "layout": "IPY_MODEL_5630133acd0948ae8dc4a9892e86d671"
          }
        },
        "c36c637133b240d89556bd19e02e651a": {
          "model_module": "@jupyter-widgets/controls",
          "model_name": "HTMLModel",
          "model_module_version": "1.5.0",
          "state": {
            "_dom_classes": [],
            "_model_module": "@jupyter-widgets/controls",
            "_model_module_version": "1.5.0",
            "_model_name": "HTMLModel",
            "_view_count": null,
            "_view_module": "@jupyter-widgets/controls",
            "_view_module_version": "1.5.0",
            "_view_name": "HTMLView",
            "description": "",
            "description_tooltip": null,
            "layout": "IPY_MODEL_6f2d944d76354c93b5db32e59374d161",
            "placeholder": "​",
            "style": "IPY_MODEL_6729db8c37f243c3b64748b59aa730de",
            "value": "label_encoder.txt: 100%"
          }
        },
        "c7bb2c95385042858ea3b6f947ee9435": {
          "model_module": "@jupyter-widgets/controls",
          "model_name": "FloatProgressModel",
          "model_module_version": "1.5.0",
          "state": {
            "_dom_classes": [],
            "_model_module": "@jupyter-widgets/controls",
            "_model_module_version": "1.5.0",
            "_model_name": "FloatProgressModel",
            "_view_count": null,
            "_view_module": "@jupyter-widgets/controls",
            "_view_module_version": "1.5.0",
            "_view_name": "ProgressView",
            "bar_style": "success",
            "description": "",
            "description_tooltip": null,
            "layout": "IPY_MODEL_75344e19cc464ab583fd341a7398d92e",
            "max": 128619,
            "min": 0,
            "orientation": "horizontal",
            "style": "IPY_MODEL_93b9236e2cfd4a468caf62bfb0bc41e1",
            "value": 128619
          }
        },
        "ebf042f99b8d446f93aa70aecf1bf64f": {
          "model_module": "@jupyter-widgets/controls",
          "model_name": "HTMLModel",
          "model_module_version": "1.5.0",
          "state": {
            "_dom_classes": [],
            "_model_module": "@jupyter-widgets/controls",
            "_model_module_version": "1.5.0",
            "_model_name": "HTMLModel",
            "_view_count": null,
            "_view_module": "@jupyter-widgets/controls",
            "_view_module_version": "1.5.0",
            "_view_name": "HTMLView",
            "description": "",
            "description_tooltip": null,
            "layout": "IPY_MODEL_8735e85262a349c386e6a5f7e814d0ef",
            "placeholder": "​",
            "style": "IPY_MODEL_71cd16a6a6104894bea7bddf89e10c59",
            "value": " 129k/129k [00:00&lt;00:00, 2.38MB/s]"
          }
        },
        "5630133acd0948ae8dc4a9892e86d671": {
          "model_module": "@jupyter-widgets/base",
          "model_name": "LayoutModel",
          "model_module_version": "1.2.0",
          "state": {
            "_model_module": "@jupyter-widgets/base",
            "_model_module_version": "1.2.0",
            "_model_name": "LayoutModel",
            "_view_count": null,
            "_view_module": "@jupyter-widgets/base",
            "_view_module_version": "1.2.0",
            "_view_name": "LayoutView",
            "align_content": null,
            "align_items": null,
            "align_self": null,
            "border": null,
            "bottom": null,
            "display": null,
            "flex": null,
            "flex_flow": null,
            "grid_area": null,
            "grid_auto_columns": null,
            "grid_auto_flow": null,
            "grid_auto_rows": null,
            "grid_column": null,
            "grid_gap": null,
            "grid_row": null,
            "grid_template_areas": null,
            "grid_template_columns": null,
            "grid_template_rows": null,
            "height": null,
            "justify_content": null,
            "justify_items": null,
            "left": null,
            "margin": null,
            "max_height": null,
            "max_width": null,
            "min_height": null,
            "min_width": null,
            "object_fit": null,
            "object_position": null,
            "order": null,
            "overflow": null,
            "overflow_x": null,
            "overflow_y": null,
            "padding": null,
            "right": null,
            "top": null,
            "visibility": null,
            "width": null
          }
        },
        "6f2d944d76354c93b5db32e59374d161": {
          "model_module": "@jupyter-widgets/base",
          "model_name": "LayoutModel",
          "model_module_version": "1.2.0",
          "state": {
            "_model_module": "@jupyter-widgets/base",
            "_model_module_version": "1.2.0",
            "_model_name": "LayoutModel",
            "_view_count": null,
            "_view_module": "@jupyter-widgets/base",
            "_view_module_version": "1.2.0",
            "_view_name": "LayoutView",
            "align_content": null,
            "align_items": null,
            "align_self": null,
            "border": null,
            "bottom": null,
            "display": null,
            "flex": null,
            "flex_flow": null,
            "grid_area": null,
            "grid_auto_columns": null,
            "grid_auto_flow": null,
            "grid_auto_rows": null,
            "grid_column": null,
            "grid_gap": null,
            "grid_row": null,
            "grid_template_areas": null,
            "grid_template_columns": null,
            "grid_template_rows": null,
            "height": null,
            "justify_content": null,
            "justify_items": null,
            "left": null,
            "margin": null,
            "max_height": null,
            "max_width": null,
            "min_height": null,
            "min_width": null,
            "object_fit": null,
            "object_position": null,
            "order": null,
            "overflow": null,
            "overflow_x": null,
            "overflow_y": null,
            "padding": null,
            "right": null,
            "top": null,
            "visibility": null,
            "width": null
          }
        },
        "6729db8c37f243c3b64748b59aa730de": {
          "model_module": "@jupyter-widgets/controls",
          "model_name": "DescriptionStyleModel",
          "model_module_version": "1.5.0",
          "state": {
            "_model_module": "@jupyter-widgets/controls",
            "_model_module_version": "1.5.0",
            "_model_name": "DescriptionStyleModel",
            "_view_count": null,
            "_view_module": "@jupyter-widgets/base",
            "_view_module_version": "1.2.0",
            "_view_name": "StyleView",
            "description_width": ""
          }
        },
        "75344e19cc464ab583fd341a7398d92e": {
          "model_module": "@jupyter-widgets/base",
          "model_name": "LayoutModel",
          "model_module_version": "1.2.0",
          "state": {
            "_model_module": "@jupyter-widgets/base",
            "_model_module_version": "1.2.0",
            "_model_name": "LayoutModel",
            "_view_count": null,
            "_view_module": "@jupyter-widgets/base",
            "_view_module_version": "1.2.0",
            "_view_name": "LayoutView",
            "align_content": null,
            "align_items": null,
            "align_self": null,
            "border": null,
            "bottom": null,
            "display": null,
            "flex": null,
            "flex_flow": null,
            "grid_area": null,
            "grid_auto_columns": null,
            "grid_auto_flow": null,
            "grid_auto_rows": null,
            "grid_column": null,
            "grid_gap": null,
            "grid_row": null,
            "grid_template_areas": null,
            "grid_template_columns": null,
            "grid_template_rows": null,
            "height": null,
            "justify_content": null,
            "justify_items": null,
            "left": null,
            "margin": null,
            "max_height": null,
            "max_width": null,
            "min_height": null,
            "min_width": null,
            "object_fit": null,
            "object_position": null,
            "order": null,
            "overflow": null,
            "overflow_x": null,
            "overflow_y": null,
            "padding": null,
            "right": null,
            "top": null,
            "visibility": null,
            "width": null
          }
        },
        "93b9236e2cfd4a468caf62bfb0bc41e1": {
          "model_module": "@jupyter-widgets/controls",
          "model_name": "ProgressStyleModel",
          "model_module_version": "1.5.0",
          "state": {
            "_model_module": "@jupyter-widgets/controls",
            "_model_module_version": "1.5.0",
            "_model_name": "ProgressStyleModel",
            "_view_count": null,
            "_view_module": "@jupyter-widgets/base",
            "_view_module_version": "1.2.0",
            "_view_name": "StyleView",
            "bar_color": null,
            "description_width": ""
          }
        },
        "8735e85262a349c386e6a5f7e814d0ef": {
          "model_module": "@jupyter-widgets/base",
          "model_name": "LayoutModel",
          "model_module_version": "1.2.0",
          "state": {
            "_model_module": "@jupyter-widgets/base",
            "_model_module_version": "1.2.0",
            "_model_name": "LayoutModel",
            "_view_count": null,
            "_view_module": "@jupyter-widgets/base",
            "_view_module_version": "1.2.0",
            "_view_name": "LayoutView",
            "align_content": null,
            "align_items": null,
            "align_self": null,
            "border": null,
            "bottom": null,
            "display": null,
            "flex": null,
            "flex_flow": null,
            "grid_area": null,
            "grid_auto_columns": null,
            "grid_auto_flow": null,
            "grid_auto_rows": null,
            "grid_column": null,
            "grid_gap": null,
            "grid_row": null,
            "grid_template_areas": null,
            "grid_template_columns": null,
            "grid_template_rows": null,
            "height": null,
            "justify_content": null,
            "justify_items": null,
            "left": null,
            "margin": null,
            "max_height": null,
            "max_width": null,
            "min_height": null,
            "min_width": null,
            "object_fit": null,
            "object_position": null,
            "order": null,
            "overflow": null,
            "overflow_x": null,
            "overflow_y": null,
            "padding": null,
            "right": null,
            "top": null,
            "visibility": null,
            "width": null
          }
        },
        "71cd16a6a6104894bea7bddf89e10c59": {
          "model_module": "@jupyter-widgets/controls",
          "model_name": "DescriptionStyleModel",
          "model_module_version": "1.5.0",
          "state": {
            "_model_module": "@jupyter-widgets/controls",
            "_model_module_version": "1.5.0",
            "_model_name": "DescriptionStyleModel",
            "_view_count": null,
            "_view_module": "@jupyter-widgets/base",
            "_view_module_version": "1.2.0",
            "_view_name": "StyleView",
            "description_width": ""
          }
        }
      }
    }
  },
  "nbformat": 4,
  "nbformat_minor": 0
}